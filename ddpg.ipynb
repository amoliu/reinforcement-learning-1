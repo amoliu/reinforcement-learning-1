{
 "cells": [
  {
   "cell_type": "code",
   "execution_count": 1,
   "metadata": {
    "collapsed": false
   },
   "outputs": [],
   "source": [
    "%matplotlib inline"
   ]
  },
  {
   "cell_type": "code",
   "execution_count": 2,
   "metadata": {
    "collapsed": true
   },
   "outputs": [],
   "source": [
    "import gym\n",
    "import tensorflow as tf\n",
    "import numpy as np\n",
    "from tqdm import tqdm, trange\n",
    "import matplotlib.pyplot as plt\n",
    "import random"
   ]
  },
  {
   "cell_type": "code",
   "execution_count": 3,
   "metadata": {
    "collapsed": true
   },
   "outputs": [],
   "source": [
    "# Constants\n",
    "RENDER = True\n",
    "TIMESTEPS = 30000\n",
    "REPLAY_BUFFER_SIZE = 100000\n",
    "LEARNING_START = 10000\n",
    "BATCH_SIZE = 256\n",
    "DISCOUNT_FACTOR = 0.9\n",
    "LEARNING_RATE = 0.001"
   ]
  },
  {
   "cell_type": "code",
   "execution_count": 4,
   "metadata": {
    "collapsed": false
   },
   "outputs": [],
   "source": [
    "from displayframesasgif import display_frames_as_gif\n",
    "from replaybuffer import ReplayBuffer, PrioritizedReplayBuffer\n",
    "from ddpg import DDPG\n",
    "from amc import AMC\n",
    "from deepmlac import DeepMLAC\n",
    "from neuralnetwork import NeuralNetwork\n",
    "from layers import *\n",
    "from movingaverage import MovingAverage"
   ]
  },
  {
   "cell_type": "code",
   "execution_count": 5,
   "metadata": {
    "collapsed": false
   },
   "outputs": [
    {
     "name": "stderr",
     "output_type": "stream",
     "text": [
      "[2017-04-01 21:23:00,868] Making new env: Pendulum-v0\n"
     ]
    }
   ],
   "source": [
    "env = gym.make('Pendulum-v0') #Pendulum-v0, MountainCarContinuous-v0"
   ]
  },
  {
   "cell_type": "code",
   "execution_count": 6,
   "metadata": {
    "collapsed": false
   },
   "outputs": [],
   "source": [
    "observation = env.reset()\n",
    "frames = []\n",
    "reward_avg = MovingAverage(100)\n",
    "total_rewards = [0]\n",
    "\n",
    "state_dim = env.observation_space.shape[0]\n",
    "action_dim = env.action_space.shape[0]"
   ]
  },
  {
   "cell_type": "code",
   "execution_count": 7,
   "metadata": {
    "collapsed": false
   },
   "outputs": [
    {
     "name": "stdout",
     "output_type": "stream",
     "text": [
      "3\n",
      "1\n",
      "[ 1.  1.  8.]\n",
      "[-1. -1. -8.]\n",
      "[ 2.]\n",
      "[-2.]\n"
     ]
    }
   ],
   "source": [
    "print(state_dim)\n",
    "print(action_dim)\n",
    "print(env.observation_space.high)\n",
    "print(env.observation_space.low)\n",
    "print(env.action_space.high)\n",
    "print(env.action_space.low)"
   ]
  },
  {
   "cell_type": "code",
   "execution_count": 8,
   "metadata": {
    "collapsed": false
   },
   "outputs": [],
   "source": [
    "gpu_options = tf.GPUOptions(per_process_gpu_memory_fraction=0.1)\n",
    "session = tf.InteractiveSession(config=tf.ConfigProto(gpu_options=gpu_options))"
   ]
  },
  {
   "cell_type": "code",
   "execution_count": 9,
   "metadata": {
    "collapsed": false
   },
   "outputs": [
    {
     "name": "stdout",
     "output_type": "stream",
     "text": [
      "[] --> Actor_input_0\n",
      "['Actor_input_0'] --> h0\n",
      "['h0'] --> h1\n",
      "['h1'] --> out\n",
      "['out'] --> bounded\n",
      "\n"
     ]
    }
   ],
   "source": [
    "actor_network = NeuralNetwork(\"Actor\", session, [state_dim])\n",
    "a_h0 = FullyConnectedLayer(\"h0\", 256, actor_network.get_input_layer(0), tf.nn.relu)\n",
    "a_h1 = FullyConnectedLayer(\"h1\", 128, a_h0, tf.nn.relu)\n",
    "a_out = FullyConnectedLayer(\"out\", action_dim, a_h1, tf.identity)\n",
    "a_bounded = BoundingLayer(\"bounded\", a_out, env.action_space.low, env.action_space.high)\n",
    "actor_network.compile(a_bounded)\n",
    "\n",
    "print(str(actor_network))\n",
    "\n",
    "q_network = NeuralNetwork(\"Q\", session, [state_dim, action_dim])\n",
    "q_concat = ConcatLayer(\"concat\", [q_network.get_input_layer(0), q_network.get_input_layer(1)])\n",
    "#q_bn0 = BatchNormalizationLayer(\"bn0\", q_concat)\n",
    "q_h0 = FullyConnectedLayer(\"h0\", 256, q_concat, tf.nn.relu)\n",
    "q_h1 = FullyConnectedLayer(\"h1\", 128, q_h0, tf.nn.relu)\n",
    "q_out = FullyConnectedLayer(\"out\", 1, q_h1, tf.identity)\n",
    "q_network.compile(q_out)\n",
    "\n",
    "model_network = NeuralNetwork(\"Model\", session, [state_dim, action_dim])\n",
    "m_concat = ConcatLayer(\"concat\", [model_network.get_input_layer(0), model_network.get_input_layer(1)])\n",
    "m_h0 = FullyConnectedLayer(\"h0\", 256, m_concat, tf.nn.relu)\n",
    "m_h1 = FullyConnectedLayer(\"h1\", 128, m_h0, tf.nn.relu)\n",
    "m_out = FullyConnectedLayer(\"out\", state_dim, m_h1, tf.identity)\n",
    "model_network.compile(m_out)\n",
    "\n",
    "reward_network = NeuralNetwork(\"Reward\", session, [state_dim, action_dim])\n",
    "r_concat = ConcatLayer(\"concat\", [reward_network.get_input_layer(0), reward_network.get_input_layer(1)])\n",
    "r_h0 = FullyConnectedLayer(\"h0\", 256, r_concat, tf.nn.relu)\n",
    "r_h1 = FullyConnectedLayer(\"h1\", 128, r_h0, tf.nn.relu)\n",
    "r_out = FullyConnectedLayer(\"out\", 1, r_h1, tf.identity)\n",
    "reward_network.compile(r_out)\n",
    "\n",
    "value_network = NeuralNetwork(\"Value\", session, [state_dim])\n",
    "v_h0 = FullyConnectedLayer(\"h0\", 256, value_network.get_input_layer(0), tf.nn.relu)\n",
    "v_h1 = FullyConnectedLayer(\"h1\", 128, v_h0, tf.nn.relu)\n",
    "v_out = FullyConnectedLayer(\"out\", 1, v_h1, tf.identity)\n",
    "value_network.compile(v_out)\n",
    "\n",
    "agent = DDPG(actor_network, q_network, discount_factor=DISCOUNT_FACTOR, tf_optimizer=tf.train.AdamOptimizer(0.0001))\n",
    "#agent = AMC(actor_network, model_network, reward_network, value_network, forward_steps=1, discount_factor=DISCOUNT_FACTOR, tf_optimizer=tf.train.AdamOptimizer(0.0001))\n",
    "#agent = DeepMLAC(actor_network, model_network, reward_network, value_network, forward_steps=5, discount_factor=DISCOUNT_FACTOR, trace_decay=0.5, tf_optimizer=tf.train.AdamOptimizer(0.0001))"
   ]
  },
  {
   "cell_type": "code",
   "execution_count": null,
   "metadata": {
    "collapsed": false
   },
   "outputs": [],
   "source": []
  },
  {
   "cell_type": "code",
   "execution_count": 10,
   "metadata": {
    "collapsed": false
   },
   "outputs": [],
   "source": [
    "tvars = tf.trainable_variables()\n",
    "tvars_vals = session.run(tvars)\n",
    "\n",
    "#for var, val in zip(tvars, tvars_vals):\n",
    "#    print(var.name, val)"
   ]
  },
  {
   "cell_type": "code",
   "execution_count": 11,
   "metadata": {
    "collapsed": false
   },
   "outputs": [],
   "source": [
    "replay_buffer = ReplayBuffer(REPLAY_BUFFER_SIZE, state_dim, action_dim)"
   ]
  },
  {
   "cell_type": "code",
   "execution_count": 12,
   "metadata": {
    "collapsed": false
   },
   "outputs": [
    {
     "data": {
      "text/plain": [
       "'for t in range(20000):\\n    action = env.action_space.sample()\\n    \\n    observation, reward, done, info = env.step(action)\\n    next_state = np.reshape(observation, (state_dim,))\\n    replay_buffer.add(state, action, reward, next_state, done)\\n    state = next_state\\n    \\n    agent.train_model()\\n    \\nagent.reset_replay_buffer()'"
      ]
     },
     "execution_count": 12,
     "metadata": {},
     "output_type": "execute_result"
    }
   ],
   "source": [
    "state = np.array(env.reset())\n",
    "\n",
    "# model pretraining\n",
    "'''for t in range(20000):\n",
    "    action = env.action_space.sample()\n",
    "    \n",
    "    observation, reward, done, info = env.step(action)\n",
    "    next_state = np.reshape(observation, (state_dim,))\n",
    "    replay_buffer.add(state, action, reward, next_state, done)\n",
    "    state = next_state\n",
    "    \n",
    "    agent.train_model()\n",
    "    \n",
    "agent.reset_replay_buffer()'''"
   ]
  },
  {
   "cell_type": "code",
   "execution_count": 13,
   "metadata": {
    "collapsed": false
   },
   "outputs": [
    {
     "name": "stderr",
     "output_type": "stream",
     "text": [
      "[29999] reward: -0.00, reward 100-step MA: -0.00, Exploration proba: 0.00, action: [ 0.07454613]: 100%|██████████| 30000/30000 [02:08<00:00, 232.82it/s] 349/30000 [00:00<00:08, 3485.99it/s]\n"
     ]
    }
   ],
   "source": [
    "progress_bar = tqdm(total=TIMESTEPS)\n",
    "episode_reward = 0\n",
    "episote_duration = 0\n",
    "\n",
    "for t in xrange(TIMESTEPS):   \n",
    "    action = None\n",
    "    \n",
    "    exploration_probability = ((TIMESTEPS - t) / float(TIMESTEPS)) ** 2\n",
    "    if t < LEARNING_START:\n",
    "        exploration_probability = 1\n",
    "    \n",
    "    if random.uniform(0, 1) < exploration_probability:\n",
    "        action = env.action_space.sample()\n",
    "    else:\n",
    "        action = agent.action(state)\n",
    "    \n",
    "    observation, reward, done, info = env.step(action)\n",
    "    next_state = np.reshape(observation, (state_dim,))\n",
    "    replay_buffer.add(state, action, reward, next_state, done)\n",
    "    state = next_state\n",
    "    \n",
    "    episode_reward += reward\n",
    "    episote_duration += 1\n",
    "    total_rewards.append(total_rewards[-1] + reward)\n",
    "    \n",
    "    if done:\n",
    "        state = np.array(env.reset())\n",
    "        print(\"Episode over. Total reward: {}. Solved in {} steps.\".format(episode_reward, episote_duration))\n",
    "        episode_reward = 0\n",
    "        episote_duration = 0\n",
    "        \n",
    "    if t >= LEARNING_START:\n",
    "        state_batch, action_batch, reward_batch, next_state_batch, done_batch = replay_buffer.get_batch(BATCH_SIZE)\n",
    "        agent.train(state_batch, action_batch, reward_batch, next_state_batch, done_batch)\n",
    "        \n",
    "        if RENDER and t % 60 == 0:\n",
    "            frames.append(env.render(mode = 'rgb_array'))\n",
    "    #else:\n",
    "        #agent.train(train_actor=False, train_model=True, train_reward=True, train_value=False)\n",
    "            \n",
    "    reward_avg.add_value(reward)    \n",
    "    progress_bar.set_description('[{}] reward: {:.2f}, reward 100-step MA: {:.2f}, Exploration proba: {:.2f}, action: {}' \\\n",
    "        .format(t, reward, reward_avg.get_average(), exploration_probability, str(action)))\n",
    "    progress_bar.update()\n",
    "    \n",
    "        \n",
    "progress_bar.close()"
   ]
  },
  {
   "cell_type": "code",
   "execution_count": 14,
   "metadata": {
    "collapsed": false
   },
   "outputs": [
    {
     "data": {
      "text/plain": [
       "[<matplotlib.lines.Line2D at 0x7f8332ccfb90>]"
      ]
     },
     "execution_count": 14,
     "metadata": {},
     "output_type": "execute_result"
    },
    {
     "data": {
      "image/png": "[encoded data removed]",
      "text/plain": [
       "<matplotlib.figure.Figure at 0x7f83e0bf6b50>"
      ]
     },
     "metadata": {},
     "output_type": "display_data"
    }
   ],
   "source": [
    "plt.plot(total_rewards)"
   ]
  },
  {
   "cell_type": "code",
   "execution_count": 15,
   "metadata": {
    "collapsed": false
   },
   "outputs": [],
   "source": [
    "#if RENDER:\n",
    "#    display_frames_as_gif(frames)"
   ]
  },
  {
   "cell_type": "code",
   "execution_count": 16,
   "metadata": {
    "collapsed": false
   },
   "outputs": [
    {
     "data": {
      "text/plain": [
       "[0, 3, 5, 6]"
      ]
     },
     "execution_count": 16,
     "metadata": {},
     "output_type": "execute_result"
    }
   ],
   "source": [
    "cache = [1, None, None, 1, None, 1, 1]\n",
    "[i for i, v in enumerate(cache) if v is not None]"
   ]
  },
  {
   "cell_type": "raw",
   "metadata": {
    "collapsed": false
   },
   "source": []
  }
 ],
 "metadata": {
  "kernelspec": {
   "display_name": "Python 2",
   "language": "python",
   "name": "python2"
  },
  "language_info": {
   "codemirror_mode": {
    "name": "ipython",
    "version": 2
   },
   "file_extension": ".py",
   "mimetype": "text/x-python",
   "name": "python",
   "nbconvert_exporter": "python",
   "pygments_lexer": "ipython2",
   "version": "2.7.12"
  }
 },
 "nbformat": 4,
 "nbformat_minor": 2
}
